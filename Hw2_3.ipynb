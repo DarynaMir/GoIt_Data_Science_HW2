{
 "cells": [
  {
   "cell_type": "markdown",
   "metadata": {},
   "source": [
    "1. Прочитайте csv файл\n",
    "2. Виведіть перші п'ять рядків"
   ]
  },
  {
   "cell_type": "code",
   "execution_count": 9,
   "metadata": {
    "colab": {
     "base_uri": "https://localhost:8080/"
    },
    "id": "Z8h4Fw4-dMuj",
    "outputId": "130b5449-1562-43e0-e82e-9875cabb1265"
   },
   "outputs": [
    {
     "name": "stdout",
     "output_type": "stream",
     "text": [
      "Перші п'ять рядків таблиці:\n",
      "                                                Name  \\\n",
      "0                      10-Day Green Smoothie Cleanse   \n",
      "1                                  11/22/63: A Novel   \n",
      "2            12 Rules for Life: An Antidote to Chaos   \n",
      "3                             1984 (Signet Classics)   \n",
      "4  5,000 Awesome Facts (About Everything!) (Natio...   \n",
      "\n",
      "                     Author  User Rating  Reviews  Price  Year        Genre  \n",
      "0                  JJ Smith          4.7    17350      8  2016  Non Fiction  \n",
      "1              Stephen King          4.6     2052     22  2011      Fiction  \n",
      "2        Jordan B. Peterson          4.7    18979     15  2018  Non Fiction  \n",
      "3             George Orwell          4.7    21424      6  2017      Fiction  \n",
      "4  National Geographic Kids          4.8     7665     12  2019  Non Fiction  \n"
     ]
    }
   ],
   "source": [
    "import pandas as pd\n",
    "import matplotlib.pyplot as plt\n",
    "import seaborn as sns\n",
    "file_name = \"bestsellers_with_categories.csv\"\n",
    "\n",
    "df = pd.read_csv(file_name)\n",
    "print(\"Перші п'ять рядків таблиці:\")\n",
    "print(df.head())"
   ]
  },
  {
   "cell_type": "markdown",
   "metadata": {
    "id": "28YPnsZwfwYs"
   },
   "source": [
    "3. Визначте розмір таблиці за допомогою методу shape"
   ]
  },
  {
   "cell_type": "code",
   "execution_count": 10,
   "metadata": {
    "colab": {
     "base_uri": "https://localhost:8080/"
    },
    "id": "LWSxZmhPi7h0",
    "outputId": "06f38e35-2ae6-4c75-cb4e-83e2412e2fec"
   },
   "outputs": [
    {
     "name": "stdout",
     "output_type": "stream",
     "text": [
      "\n",
      "Розміри датасету:\n",
      " (550, 7)\n"
     ]
    }
   ],
   "source": [
    "print(\"\\nРозміри датасету:\\n\", df.shape)"
   ]
  },
  {
   "cell_type": "markdown",
   "metadata": {
    "id": "X3H-qFtPf1Gl"
   },
   "source": [
    "4. Відповідь: Про скільки книг зберігає дані датасет?"
   ]
  },
  {
   "cell_type": "code",
   "execution_count": 11,
   "metadata": {
    "colab": {
     "base_uri": "https://localhost:8080/"
    },
    "id": "5VnuddBPj4vx",
    "outputId": "833ba644-93a7-4b56-dd6a-628839870356"
   },
   "outputs": [
    {
     "name": "stdout",
     "output_type": "stream",
     "text": [
      "\n",
      "Датасет зберігає дані про 550 книг.\n"
     ]
    }
   ],
   "source": [
    "num_books = df.shape[0]\n",
    "print(f\"\\nДатасет зберігає дані про {num_books} книг.\")"
   ]
  },
  {
   "cell_type": "code",
   "execution_count": 12,
   "metadata": {
    "colab": {
     "base_uri": "https://localhost:8080/"
    },
    "id": "Vo6lIDuquCvU",
    "outputId": "566c9145-8f07-459f-d713-c662c3814248"
   },
   "outputs": [
    {
     "name": "stdout",
     "output_type": "stream",
     "text": [
      "                                                  name  \\\n",
      "0                        10-Day Green Smoothie Cleanse   \n",
      "1                                    11/22/63: A Novel   \n",
      "2              12 Rules for Life: An Antidote to Chaos   \n",
      "3                               1984 (Signet Classics)   \n",
      "4    5,000 Awesome Facts (About Everything!) (Natio...   \n",
      "..                                                 ...   \n",
      "545       Wrecking Ball (Diary of a Wimpy Kid Book 14)   \n",
      "546  You Are a Badass: How to Stop Doubting Your Gr...   \n",
      "547  You Are a Badass: How to Stop Doubting Your Gr...   \n",
      "548  You Are a Badass: How to Stop Doubting Your Gr...   \n",
      "549  You Are a Badass: How to Stop Doubting Your Gr...   \n",
      "\n",
      "                       author  user_rating  reviews  price  year        genre  \n",
      "0                    JJ Smith          4.7    17350      8  2016  Non Fiction  \n",
      "1                Stephen King          4.6     2052     22  2011      Fiction  \n",
      "2          Jordan B. Peterson          4.7    18979     15  2018  Non Fiction  \n",
      "3               George Orwell          4.7    21424      6  2017      Fiction  \n",
      "4    National Geographic Kids          4.8     7665     12  2019  Non Fiction  \n",
      "..                        ...          ...      ...    ...   ...          ...  \n",
      "545               Jeff Kinney          4.9     9413      8  2019      Fiction  \n",
      "546               Jen Sincero          4.7    14331      8  2016  Non Fiction  \n",
      "547               Jen Sincero          4.7    14331      8  2017  Non Fiction  \n",
      "548               Jen Sincero          4.7    14331      8  2018  Non Fiction  \n",
      "549               Jen Sincero          4.7    14331      8  2019  Non Fiction  \n",
      "\n",
      "[550 rows x 7 columns]\n"
     ]
    }
   ],
   "source": [
    "df.columns = ['name', 'author', 'user_rating', 'reviews', 'price', 'year', 'genre']\n",
    "print(df)"
   ]
  },
  {
   "cell_type": "markdown",
   "metadata": {
    "id": "-BklOwhGgFrW"
   },
   "source": [
    "Первинне дослідження даних\n",
    "1. Перевірте, чи у всіх рядків вистачає даних: виведіть кількість пропусків (na) у кожному зі стовпців (використовуйте функції isna та sum)"
   ]
  },
  {
   "cell_type": "code",
   "execution_count": 13,
   "metadata": {
    "colab": {
     "base_uri": "https://localhost:8080/"
    },
    "id": "6VVczv9Vvi4D",
    "outputId": "6aa6d76e-b77d-4d0e-ac6c-5069bea916c0"
   },
   "outputs": [
    {
     "name": "stdout",
     "output_type": "stream",
     "text": [
      "Чи є в якихось змінних пропуски?\n",
      "False\n"
     ]
    }
   ],
   "source": [
    "na_counts = df.isna().sum()\n",
    "print(\"Чи є в якихось змінних пропуски?\")\n",
    "print((na_counts > 0).any())"
   ]
  },
  {
   "cell_type": "markdown",
   "metadata": {
    "id": "CO2gbOdGhgjb"
   },
   "source": [
    "2. Перевірте, які є унікальні значення в колонці genre (використовуйте функцію unique)"
   ]
  },
  {
   "cell_type": "code",
   "execution_count": 14,
   "metadata": {
    "colab": {
     "base_uri": "https://localhost:8080/"
    },
    "id": "jDtHlz7ZhU6Q",
    "outputId": "26d740b7-dc11-4293-ce66-bcb776e696ca"
   },
   "outputs": [
    {
     "name": "stdout",
     "output_type": "stream",
     "text": [
      "Які є унікальні жанри?\n",
      "['Non Fiction' 'Fiction']\n"
     ]
    }
   ],
   "source": [
    "unique_genres = df['genre'].unique()\n",
    "print(\"Які є унікальні жанри?\")\n",
    "print(unique_genres)"
   ]
  },
  {
   "cell_type": "markdown",
   "metadata": {
    "id": "7a_hzO8ch2-g"
   },
   "source": [
    "3. Тепер подивіться на розподіл цін: побудуйте діаграму (використовуйте kind='hist')"
   ]
  },
  {
   "cell_type": "code",
   "execution_count": 15,
   "metadata": {
    "colab": {
     "base_uri": "https://localhost:8080/"
    },
    "id": "BXc-uNJeh0rT",
    "outputId": "e7d28efa-8134-484e-8ba7-511ec06cb5ed"
   },
   "outputs": [
    {
     "data": {
      "image/png": "[encoded data removed]",
      "text/plain": [
       "<Figure size 1000x600 with 1 Axes>"
      ]
     },
     "metadata": {},
     "output_type": "display_data"
    }
   ],
   "source": [
    "plt.figure(figsize=(10, 6))\n",
    "sns.histplot(df['price'], bins=20, kde=True, color='skyblue')\n",
    "plt.title('Розподіл цін')\n",
    "plt.xlabel('Ціна')\n",
    "plt.ylabel('Частота')\n",
    "plt.grid(axis='y', linestyle='--', alpha=0.7)\n",
    "plt.tight_layout()\n",
    "plt.show()"
   ]
  },
  {
   "cell_type": "markdown",
   "metadata": {
    "id": "o7S0ZAviigbt"
   },
   "source": [
    "4. Визначте, яка ціна у нас максимальна, мінімальна, середня, медіанна (використовуйте функції max, min, mean, median)"
   ]
  },
  {
   "cell_type": "code",
   "execution_count": 16,
   "metadata": {
    "colab": {
     "base_uri": "https://localhost:8080/"
    },
    "id": "gzsTXSELzy2U",
    "outputId": "07b4837e-bd7a-41cc-ed07-cd380c17eaaa"
   },
   "outputs": [
    {
     "name": "stdout",
     "output_type": "stream",
     "text": [
      "Максимальна ціна: 105\n",
      "Мінімальна ціна: 0\n",
      "Середня ціна: 13.1\n",
      "Медіанна ціна: 11.0\n"
     ]
    }
   ],
   "source": [
    "max_price = df['price'].max()\n",
    "\n",
    "min_price = df['price'].min()\n",
    "\n",
    "mean_price = df['price'].mean()\n",
    "\n",
    "median_price = df['price'].median()\n",
    "\n",
    "print(\"Максимальна ціна:\", max_price)\n",
    "print(\"Мінімальна ціна:\", min_price)\n",
    "print(\"Середня ціна:\", mean_price)\n",
    "print(\"Медіанна ціна:\", median_price)\n"
   ]
  },
  {
   "cell_type": "markdown",
   "metadata": {
    "id": "zSmpF1Bgiz-M"
   },
   "source": [
    "Пошук та сортування даних\n",
    "1. Відповідь: Який рейтинг у датасеті найвищий? "
   ]
  },
  {
   "cell_type": "code",
   "execution_count": 18,
   "metadata": {
    "colab": {
     "base_uri": "https://localhost:8080/"
    },
    "id": "e4tgLlz8z8dC",
    "outputId": "b861ccaf-e876-49b2-e674-2ea7a0797257"
   },
   "outputs": [
    {
     "name": "stdout",
     "output_type": "stream",
     "text": [
      "Найвищий рейтинг у датасеті: 4.9\n"
     ]
    }
   ],
   "source": [
    "max_rating = df['user_rating'].max()\n",
    "print(\"Найвищий рейтинг у датасеті:\", max_rating)"
   ]
  },
  {
   "cell_type": "markdown",
   "metadata": {
    "id": "QGDA2Chui2zN"
   },
   "source": [
    "2. Відповідь: Скільки книг мають такий рейтинг?"
   ]
  },
  {
   "cell_type": "code",
   "execution_count": 19,
   "metadata": {
    "colab": {
     "base_uri": "https://localhost:8080/"
    },
    "id": "bw6loS9YOOQP",
    "outputId": "0a4e2a1b-a8d7-4cdc-e5dd-c67ae1d3902b"
   },
   "outputs": [
    {
     "name": "stdout",
     "output_type": "stream",
     "text": [
      "Кількість книг з найвищим рейтингом: 52\n"
     ]
    }
   ],
   "source": [
    "books_with_max_rating = df[df['user_rating'] == max_rating].shape[0]\n",
    "print(\"Кількість книг з найвищим рейтингом:\", books_with_max_rating)"
   ]
  },
  {
   "cell_type": "markdown",
   "metadata": {
    "id": "uMyZBGqZi-4q"
   },
   "source": [
    "3. Відповідь: Яка книга має найбільше відгуків? "
   ]
  },
  {
   "cell_type": "code",
   "execution_count": 20,
   "metadata": {
    "colab": {
     "base_uri": "https://localhost:8080/"
    },
    "id": "wUMwfK3VKiRZ",
    "outputId": "0daf9c60-ce25-42a8-be64-ff9dae2f78fa"
   },
   "outputs": [
    {
     "name": "stdout",
     "output_type": "stream",
     "text": [
      "Книга з найбільшою кількістю відгуків: Where the Crawdads Sing\n"
     ]
    }
   ],
   "source": [
    "book_with_most_reviews = df[df['reviews'] == df['reviews'].max()]['name'].iloc[0]\n",
    "print(\"Книга з найбільшою кількістю відгуків:\", book_with_most_reviews)"
   ]
  },
  {
   "cell_type": "markdown",
   "metadata": {
    "id": "j3yUxfWpjVFO"
   },
   "source": [
    "4. Відповідь: З тих книг, що потрапили до Топ-50 у 2015 році, яка книга найдорожча (можна використати проміжний датафрейм)?"
   ]
  },
  {
   "cell_type": "code",
   "execution_count": 21,
   "metadata": {
    "colab": {
     "base_uri": "https://localhost:8080/"
    },
    "id": "y7PTqU6BMzGv",
    "outputId": "b67d2fc5-b870-4de5-975b-24dbdb023266"
   },
   "outputs": [
    {
     "name": "stdout",
     "output_type": "stream",
     "text": [
      "Найдорожча книга з Топ-50 у 2015 році: Humans of New York : Stories\n"
     ]
    }
   ],
   "source": [
    "top_50_2015 = df[(df['year'] == 2015) & (df['name'].isin(df.nlargest(50, 'user_rating')['name']))]\n",
    "most_expensive_2015 = top_50_2015.loc[top_50_2015['price'].idxmax()]['name']\n",
    "print(\"Найдорожча книга з Топ-50 у 2015 році:\", most_expensive_2015)\n"
   ]
  },
  {
   "cell_type": "markdown",
   "metadata": {
    "id": "a7flHnnXjc47"
   },
   "source": [
    "5. Відповідь: Скільки книг жанру Fiction потрапили до Топ-50 у 2010 році (використовуйте &)?"
   ]
  },
  {
   "cell_type": "code",
   "execution_count": 23,
   "metadata": {
    "colab": {
     "base_uri": "https://localhost:8080/"
    },
    "id": "G0Poa3J1kOVu",
    "outputId": "33592d60-259f-4dcf-d2c9-1d8bc1389621"
   },
   "outputs": [
    {
     "name": "stdout",
     "output_type": "stream",
     "text": [
      "Кількість книг жанру Fiction у Топ-50 у 2010 році: 0\n"
     ]
    }
   ],
   "source": [
    "fiction_top_50_2010 = df[(df['year'] == 2010) & (df['genre'] == 'fiction') & (df['name'].isin(df.nlargest(50, 'user_rating')['name']))].shape[0]\n",
    "print(\"Кількість книг жанру Fiction у Топ-50 у 2010 році:\", fiction_top_50_2010)\n"
   ]
  },
  {
   "cell_type": "markdown",
   "metadata": {
    "id": "iCh0jStjjiH_"
   },
   "source": [
    "6. Відповідь: Скільки книг з рейтингом 4.9 потрапило до рейтингу у 2010 та 2011 роках (використовуйте | або функцію isin)?"
   ]
  },
  {
   "cell_type": "code",
   "execution_count": 24,
   "metadata": {
    "id": "xEiRqGj7pCp3"
   },
   "outputs": [
    {
     "name": "stdout",
     "output_type": "stream",
     "text": [
      "Кількість книг з рейтингом 4.9 у 2010 та 2011 роках: 1\n"
     ]
    }
   ],
   "source": [
    "books_rating_49_2010_2011 = df[(df['user_rating'] == 4.9) & ((df['year'] == 2010) | (df['year'] == 2011))].shape[0]\n",
    "print(\"Кількість книг з рейтингом 4.9 у 2010 та 2011 роках:\", books_rating_49_2010_2011)"
   ]
  },
  {
   "cell_type": "markdown",
   "metadata": {},
   "source": [
    "7. Відсортуйте за зростанням ціни всі книги, які потрапили до рейтингу в 2015 році і коштують дешевше за 8 доларів (використовуйте функцію sort_values)"
   ]
  },
  {
   "cell_type": "code",
   "execution_count": 27,
   "metadata": {},
   "outputs": [
    {
     "name": "stdout",
     "output_type": "stream",
     "text": [
      "                                                  name              author  \\\n",
      "507                              To Kill a Mockingbird          Harper Lee   \n",
      "210                      Laugh-Out-Loud Jokes for Kids         Rob Elliott   \n",
      "206                         Knock-Knock Jokes for Kids         Rob Elliott   \n",
      "111                                    First 100 Words        Roger Priddy   \n",
      "123                               Giraffes Can't Dance       Giles Andreae   \n",
      "54   Creative Haven Creative Cats Coloring Book (Ad...     Marjorie Sarnat   \n",
      "63                      Dear Zoo: A Lift-the-Flap Book        Rod Campbell   \n",
      "89   Dover Creative Haven Art Nouveau Animal Design...         Marty Noble   \n",
      "478                        The Very Hungry Caterpillar          Eric Carle   \n",
      "201  Killing Reagan: The Violent Assault That Chang...       Bill O'Reilly   \n",
      "28                        Baby Touch and Feel: Animals                  DK   \n",
      "224                                   Love You Forever       Robert Munsch   \n",
      "55   Creative Haven Owls Coloring Book (Adult Color...     Marjorie Sarnat   \n",
      "17      Adult Coloring Book: Stress Relieving Patterns  Blue Star Coloring   \n",
      "376  The Four Agreements: A Practical Guide to Pers...     Don Miguel Ruiz   \n",
      "16   Adult Coloring Book: Stress Relieving Animal D...  Blue Star Coloring   \n",
      "253              Old School (Diary of a Wimpy Kid #10)         Jeff Kinney   \n",
      "\n",
      "     user_rating  reviews  price  year        genre  \n",
      "507          4.8    26234      0  2015      Fiction  \n",
      "210          4.6     6990      4  2015  Non Fiction  \n",
      "206          4.5     3673      4  2015  Non Fiction  \n",
      "111          4.7    17323      4  2015  Non Fiction  \n",
      "123          4.8    14038      4  2015      Fiction  \n",
      "54           4.8     4022      4  2015  Non Fiction  \n",
      "63           4.8    10922      5  2015      Fiction  \n",
      "89           4.6     2134      5  2015  Non Fiction  \n",
      "478          4.9    19546      5  2015      Fiction  \n",
      "201          4.6     5235      5  2015  Non Fiction  \n",
      "28           4.6     5360      5  2015  Non Fiction  \n",
      "224          4.8    18613      5  2015      Fiction  \n",
      "55           4.8     3871      5  2015  Non Fiction  \n",
      "17           4.4     2951      6  2015  Non Fiction  \n",
      "376          4.7    23308      6  2015  Non Fiction  \n",
      "16           4.6     2925      6  2015  Non Fiction  \n",
      "253          4.8     6169      7  2015      Fiction  \n"
     ]
    }
   ],
   "source": [
    "sorted_books_2015_under_8 = df[(df['year'] == 2015) & (df['price'] < 8)].sort_values(by='price')\n",
    "print(sorted_books_2015_under_8)"
   ]
  },
  {
   "cell_type": "markdown",
   "metadata": {},
   "source": [
    "8. Відповідь: Яка книга остання у відсортованому списку? "
   ]
  },
  {
   "cell_type": "code",
   "execution_count": 26,
   "metadata": {},
   "outputs": [
    {
     "name": "stdout",
     "output_type": "stream",
     "text": [
      "Яка книга остання у відсортованому списку? Відповідь: Old School (Diary of a Wimpy Kid #10)\n"
     ]
    }
   ],
   "source": [
    "last_book_sorted = sorted_books_2015_under_8.iloc[-1]['name']\n",
    "print(\"Яка книга остання у відсортованому списку? Відповідь:\", last_book_sorted)"
   ]
  },
  {
   "cell_type": "markdown",
   "metadata": {},
   "source": [
    "Агрегування даних та з'єднання таблиць\n",
    "1. Відповідь: Максимальна ціна для жанру Fiction: Відповідь"
   ]
  },
  {
   "cell_type": "code",
   "execution_count": 32,
   "metadata": {},
   "outputs": [
    {
     "name": "stdout",
     "output_type": "stream",
     "text": [
      "Максимальна ціна для жанру Fiction: 82\n"
     ]
    }
   ],
   "source": [
    "prices_summary = df.groupby('genre')['price'].agg(['max', 'min'])\n",
    "max_price_fiction = prices_summary.loc['Fiction', 'max']\n",
    "print(\"Максимальна ціна для жанру Fiction:\", max_price_fiction)"
   ]
  },
  {
   "cell_type": "markdown",
   "metadata": {},
   "source": [
    "2. Відповідь: Мінімальна ціна для жанру Fiction: Відповідь"
   ]
  },
  {
   "cell_type": "code",
   "execution_count": 33,
   "metadata": {},
   "outputs": [
    {
     "name": "stdout",
     "output_type": "stream",
     "text": [
      "Мінімальна ціна для жанру Fiction: 0\n"
     ]
    }
   ],
   "source": [
    "min_price_fiction = prices_summary.loc['Fiction', 'min']\n",
    "print(\"Мінімальна ціна для жанру Fiction:\", min_price_fiction)"
   ]
  },
  {
   "cell_type": "markdown",
   "metadata": {},
   "source": [
    "3. Відповідь: Максимальна ціна для жанру Non Fiction: Відповідь"
   ]
  },
  {
   "cell_type": "code",
   "execution_count": 34,
   "metadata": {},
   "outputs": [
    {
     "name": "stdout",
     "output_type": "stream",
     "text": [
      "Максимальна ціна для жанру Non Fiction: 105\n"
     ]
    }
   ],
   "source": [
    "max_price_non_fiction = prices_summary.loc['Non Fiction', 'max']\n",
    "print(\"Максимальна ціна для жанру Non Fiction:\", max_price_non_fiction)"
   ]
  },
  {
   "cell_type": "markdown",
   "metadata": {},
   "source": [
    "4. Відповідь: Мінімальна ціна для жанру Non Fiction: Відповідь"
   ]
  },
  {
   "cell_type": "code",
   "execution_count": 35,
   "metadata": {},
   "outputs": [
    {
     "name": "stdout",
     "output_type": "stream",
     "text": [
      "Мінімальна ціна для жанру Non Fiction: 0\n"
     ]
    }
   ],
   "source": [
    "min_price_non_fiction = prices_summary.loc['Non Fiction', 'min']\n",
    "print(\"Мінімальна ціна для жанру Non Fiction:\", min_price_non_fiction)"
   ]
  },
  {
   "cell_type": "markdown",
   "metadata": {},
   "source": [
    "Cтворіть новий датафрейм, який вміщатиме кількість книг для кожного з авторів (використовуйте функції groupby та agg, для підрахунку кількості використовуйте count). Не беріть усі стовпці, виберете тільки потрібні"
   ]
  },
  {
   "cell_type": "code",
   "execution_count": 36,
   "metadata": {},
   "outputs": [],
   "source": [
    "authors_books_count = df.groupby('author').size().reset_index(name='Books Count')\n",
    "\n",
    "table_size = authors_books_count.shape\n",
    "\n",
    "author_most_books = authors_books_count.loc[authors_books_count['Books Count'].idxmax(), 'author']\n",
    "books_count_most_books_author = authors_books_count['Books Count'].max()\n"
   ]
  },
  {
   "cell_type": "markdown",
   "metadata": {},
   "source": [
    "5. Відповідь: Якої розмірності вийшла таблиця? Відповідь:"
   ]
  },
  {
   "cell_type": "code",
   "execution_count": 37,
   "metadata": {},
   "outputs": [
    {
     "name": "stdout",
     "output_type": "stream",
     "text": [
      "Якої розмірності вийшла таблиця? Відповідь: (248, 2)\n"
     ]
    }
   ],
   "source": [
    "print(\"Якої розмірності вийшла таблиця? Відповідь:\", table_size)"
   ]
  },
  {
   "cell_type": "markdown",
   "metadata": {},
   "source": [
    "6. Відповідь: Який автор має найбільше книг? Відповідь:"
   ]
  },
  {
   "cell_type": "code",
   "execution_count": 38,
   "metadata": {},
   "outputs": [
    {
     "name": "stdout",
     "output_type": "stream",
     "text": [
      "Який автор має найбільше книг? Відповідь: Jeff Kinney\n"
     ]
    }
   ],
   "source": [
    "print(\"Який автор має найбільше книг? Відповідь:\", author_most_books)"
   ]
  },
  {
   "cell_type": "markdown",
   "metadata": {},
   "source": [
    "7. Відповідь: Скільки книг цього автора? Відповідь:"
   ]
  },
  {
   "cell_type": "code",
   "execution_count": 39,
   "metadata": {},
   "outputs": [
    {
     "name": "stdout",
     "output_type": "stream",
     "text": [
      "Скільки книг цього автора? Відповідь: 12\n"
     ]
    }
   ],
   "source": [
    "print(\"Скільки книг цього автора? Відповідь:\", books_count_most_books_author)"
   ]
  },
  {
   "cell_type": "markdown",
   "metadata": {},
   "source": [
    "Cтворіть другий датафрейм, який буде вміщати середній рейтинг для кожного автора (використовуйте функції groupby та agg, для підрахунку середнього значення використовуйте mean). Не беріть усі стовпці, виберете тільки потрібні"
   ]
  },
  {
   "cell_type": "code",
   "execution_count": 40,
   "metadata": {},
   "outputs": [],
   "source": [
    "authors_avg_rating = df.groupby('author')['user_rating'].mean().reset_index(name='Avg Rating')\n",
    "\n",
    "author_min_avg_rating = authors_avg_rating.loc[authors_avg_rating['Avg Rating'].idxmin(), 'author']\n",
    "min_avg_rating = authors_avg_rating['Avg Rating'].min()"
   ]
  },
  {
   "cell_type": "markdown",
   "metadata": {},
   "source": [
    "8. Відповідь: У якого автора середній рейтинг мінімальний? Відповідь:"
   ]
  },
  {
   "cell_type": "code",
   "execution_count": 41,
   "metadata": {},
   "outputs": [
    {
     "name": "stdout",
     "output_type": "stream",
     "text": [
      "У якого автора середній рейтинг мінімальний? Відповідь: Donna Tartt\n"
     ]
    }
   ],
   "source": [
    "print(\"У якого автора середній рейтинг мінімальний? Відповідь:\", author_min_avg_rating)"
   ]
  },
  {
   "cell_type": "markdown",
   "metadata": {},
   "source": [
    "9. Відповідь: Який у цього автора середній рейтинг? Відповідь:"
   ]
  },
  {
   "cell_type": "code",
   "execution_count": 42,
   "metadata": {},
   "outputs": [
    {
     "name": "stdout",
     "output_type": "stream",
     "text": [
      "Який у цього автора середній рейтинг? Відповідь: 3.9\n"
     ]
    }
   ],
   "source": [
    "print(\"Який у цього автора середній рейтинг? Відповідь:\", min_avg_rating)"
   ]
  },
  {
   "cell_type": "markdown",
   "metadata": {},
   "source": [
    "10. З'єднайте останні два датафрейми так, щоб для кожного автора було видно кількість книг та середній рейтинг (Використовуйте функцію concat з параметром axis=1). Збережіть результат у змінну"
   ]
  },
  {
   "cell_type": "code",
   "execution_count": 48,
   "metadata": {},
   "outputs": [
    {
     "name": "stdout",
     "output_type": "stream",
     "text": [
      "                         author  Books Count  Avg Rating\n",
      "0              Abraham Verghese            2    4.600000\n",
      "1                Adam Gasiewski            1    4.400000\n",
      "2                 Adam Mansbach            1    4.800000\n",
      "3                     Adir Levy            1    4.800000\n",
      "4    Admiral William H. McRaven            1    4.700000\n",
      "..                          ...          ...         ...\n",
      "243             Walter Isaacson            3    4.566667\n",
      "244               William Davis            2    4.400000\n",
      "245            William P. Young            2    4.600000\n",
      "246            Wizards RPG Team            3    4.800000\n",
      "247                Zhi Gang Sha            2    4.600000\n",
      "\n",
      "[248 rows x 3 columns]\n"
     ]
    }
   ],
   "source": [
    "authors_summary = pd.concat([authors_books_count.set_index('author'), authors_avg_rating.set_index('author')], axis=1).reset_index()\n",
    "print(authors_summary)"
   ]
  },
  {
   "cell_type": "markdown",
   "metadata": {},
   "source": [
    "11. Відсортуйте датафрейм за зростаючою кількістю книг та зростаючим рейтингом (використовуйте функцію sort_values)"
   ]
  },
  {
   "cell_type": "code",
   "execution_count": 49,
   "metadata": {},
   "outputs": [
    {
     "name": "stdout",
     "output_type": "stream",
     "text": [
      "                                 author  Books Count  Avg Rating\n",
      "171                      Muriel Barbery            1    4.000000\n",
      "43                         Chris Cleave            1    4.100000\n",
      "109                   Ian K. Smith M.D.            1    4.100000\n",
      "186                        Pierre Dukan            1    4.100000\n",
      "81                     Elizabeth Strout            1    4.200000\n",
      "..                                  ...          ...         ...\n",
      "11   American Psychological Association           10    4.500000\n",
      "226                     Suzanne Collins           11    4.663636\n",
      "92                         Gary Chapman           11    4.736364\n",
      "197                        Rick Riordan           11    4.772727\n",
      "120                         Jeff Kinney           12    4.800000\n",
      "\n",
      "[248 rows x 3 columns]\n"
     ]
    }
   ],
   "source": [
    "authors_summary_sorted = authors_summary.sort_values(by=['Books Count', 'Avg Rating'])\n",
    "print(authors_summary_sorted)"
   ]
  },
  {
   "cell_type": "markdown",
   "metadata": {},
   "source": [
    "12. Відповідь: Який автор перший у списку?"
   ]
  },
  {
   "cell_type": "code",
   "execution_count": 51,
   "metadata": {},
   "outputs": [
    {
     "name": "stdout",
     "output_type": "stream",
     "text": [
      "Який автор перший у списку? Відповідь: Muriel Barbery\n"
     ]
    }
   ],
   "source": [
    "first_author_in_list = authors_summary_sorted.iloc[0]['author']\n",
    "print(\"Який автор перший у списку? Відповідь:\", first_author_in_list)"
   ]
  },
  {
   "cell_type": "code",
   "execution_count": 56,
   "metadata": {},
   "outputs": [
    {
     "data": {
      "image/png": "[encoded data removed]",
      "text/plain": [
       "<Figure size 800x500 with 1 Axes>"
      ]
     },
     "metadata": {},
     "output_type": "display_data"
    }
   ],
   "source": [
    "# Графік розподілу жанрів\n",
    "plt.figure(figsize=(8, 5))\n",
    "sns.countplot(x='genre', data=df, palette='Set2', order=df['genre'].value_counts().index, hue='genre', dodge=False)\n",
    "plt.title('Розподіл жанрів')\n",
    "plt.xlabel('Жанр')\n",
    "plt.ylabel('Кількість')\n",
    "plt.xticks(rotation=45)\n",
    "plt.tight_layout()\n",
    "plt.show()"
   ]
  },
  {
   "cell_type": "code",
   "execution_count": null,
   "metadata": {},
   "outputs": [],
   "source": []
  }
 ],
 "metadata": {
  "colab": {
   "provenance": []
  },
  "kernelspec": {
   "display_name": "Python 3 (ipykernel)",
   "language": "python",
   "name": "python3"
  },
  "language_info": {
   "codemirror_mode": {
    "name": "ipython",
    "version": 3
   },
   "file_extension": ".py",
   "mimetype": "text/x-python",
   "name": "python",
   "nbconvert_exporter": "python",
   "pygments_lexer": "ipython3",
   "version": "3.11.4"
  }
 },
 "nbformat": 4,
 "nbformat_minor": 4
}
